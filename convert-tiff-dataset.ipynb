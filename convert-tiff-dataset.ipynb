{
 "metadata": {
  "language_info": {
   "codemirror_mode": {
    "name": "ipython",
    "version": 3
   },
   "file_extension": ".py",
   "mimetype": "text/x-python",
   "name": "python",
   "nbconvert_exporter": "python",
   "pygments_lexer": "ipython3",
   "version": "3.8.6-final"
  },
  "orig_nbformat": 2,
  "kernelspec": {
   "name": "python3",
   "display_name": "Python 3.8.6 64-bit ('x64-vit-pytorch')",
   "metadata": {
    "interpreter": {
     "hash": "2ec0d6a205a03597654bf7561b9daedadb1eaa3b43335c827c8caca9af077820"
    }
   }
  }
 },
 "nbformat": 4,
 "nbformat_minor": 2,
 "cells": [
  {
   "cell_type": "code",
   "execution_count": 1,
   "metadata": {},
   "outputs": [
    {
     "output_type": "execute_result",
     "data": {
      "text/plain": [
       "{'marker_black': 0,\n",
       " 'ruler_black': 1,\n",
       " 'pen_red': 2,\n",
       " 'pencil_core': 3,\n",
       " 'pen_green': 4,\n",
       " 'paste': 5,\n",
       " 'pen_multiclolor': 6,\n",
       " 'marker_red': 7}"
      ]
     },
     "metadata": {},
     "execution_count": 1
    }
   ],
   "source": [
    "import glob\n",
    "import os\n",
    "#import zipfile\n",
    "import pandas as pd\n",
    "\n",
    "df = pd.DataFrame(columns=['label', 'tiff_filename', 'index_r', 'index_g', 'index_b'])\n",
    "# zipデータセット形式(zipファイル内にチャネルに別れたpngファイルがある。32x32) 10ファイルごとに1zipファイルを作成する\n",
    "labels = [os.path.basename(x) for x in glob.glob(\"./data-org/*\")]\n",
    "labels\n",
    "\n",
    "label_dict = {}\n",
    "for i in range(len(labels)):\n",
    "    label_dict[labels[i]] = i\n",
    "label_dict"
   ]
  },
  {
   "cell_type": "code",
   "execution_count": 2,
   "metadata": {
    "tags": []
   },
   "outputs": [
    {
     "output_type": "execute_result",
     "data": {
      "text/plain": [
       "    label       tiff_filename index_r index_g index_b\n",
       "0       1  ./data-tiff/0.tiff       0       1       2\n",
       "1       1  ./data-tiff/0.tiff       3       4       5\n",
       "2       1  ./data-tiff/0.tiff       6       7       8\n",
       "3       1  ./data-tiff/0.tiff       9      10      11\n",
       "4       1  ./data-tiff/0.tiff      12      13      14\n",
       "..    ...                 ...     ...     ...     ...\n",
       "600     7  ./data-tiff/5.tiff     285     286     287\n",
       "601     7  ./data-tiff/5.tiff     288     289     290\n",
       "602     7  ./data-tiff/5.tiff     291     292     293\n",
       "603     7  ./data-tiff/5.tiff     294     295     296\n",
       "604     7  ./data-tiff/5.tiff     297     298     299\n",
       "\n",
       "[605 rows x 5 columns]"
      ],
      "text/html": "<div>\n<style scoped>\n    .dataframe tbody tr th:only-of-type {\n        vertical-align: middle;\n    }\n\n    .dataframe tbody tr th {\n        vertical-align: top;\n    }\n\n    .dataframe thead th {\n        text-align: right;\n    }\n</style>\n<table border=\"1\" class=\"dataframe\">\n  <thead>\n    <tr style=\"text-align: right;\">\n      <th></th>\n      <th>label</th>\n      <th>tiff_filename</th>\n      <th>index_r</th>\n      <th>index_g</th>\n      <th>index_b</th>\n    </tr>\n  </thead>\n  <tbody>\n    <tr>\n      <th>0</th>\n      <td>1</td>\n      <td>./data-tiff/0.tiff</td>\n      <td>0</td>\n      <td>1</td>\n      <td>2</td>\n    </tr>\n    <tr>\n      <th>1</th>\n      <td>1</td>\n      <td>./data-tiff/0.tiff</td>\n      <td>3</td>\n      <td>4</td>\n      <td>5</td>\n    </tr>\n    <tr>\n      <th>2</th>\n      <td>1</td>\n      <td>./data-tiff/0.tiff</td>\n      <td>6</td>\n      <td>7</td>\n      <td>8</td>\n    </tr>\n    <tr>\n      <th>3</th>\n      <td>1</td>\n      <td>./data-tiff/0.tiff</td>\n      <td>9</td>\n      <td>10</td>\n      <td>11</td>\n    </tr>\n    <tr>\n      <th>4</th>\n      <td>1</td>\n      <td>./data-tiff/0.tiff</td>\n      <td>12</td>\n      <td>13</td>\n      <td>14</td>\n    </tr>\n    <tr>\n      <th>...</th>\n      <td>...</td>\n      <td>...</td>\n      <td>...</td>\n      <td>...</td>\n      <td>...</td>\n    </tr>\n    <tr>\n      <th>600</th>\n      <td>7</td>\n      <td>./data-tiff/5.tiff</td>\n      <td>285</td>\n      <td>286</td>\n      <td>287</td>\n    </tr>\n    <tr>\n      <th>601</th>\n      <td>7</td>\n      <td>./data-tiff/5.tiff</td>\n      <td>288</td>\n      <td>289</td>\n      <td>290</td>\n    </tr>\n    <tr>\n      <th>602</th>\n      <td>7</td>\n      <td>./data-tiff/5.tiff</td>\n      <td>291</td>\n      <td>292</td>\n      <td>293</td>\n    </tr>\n    <tr>\n      <th>603</th>\n      <td>7</td>\n      <td>./data-tiff/5.tiff</td>\n      <td>294</td>\n      <td>295</td>\n      <td>296</td>\n    </tr>\n    <tr>\n      <th>604</th>\n      <td>7</td>\n      <td>./data-tiff/5.tiff</td>\n      <td>297</td>\n      <td>298</td>\n      <td>299</td>\n    </tr>\n  </tbody>\n</table>\n<p>605 rows × 5 columns</p>\n</div>"
     },
     "metadata": {},
     "execution_count": 2
    }
   ],
   "source": [
    "from PIL import Image\n",
    "import numpy as np\n",
    "\n",
    "i = 0\n",
    "dst_dir = './data-tiff'\n",
    "os.makedirs(dst_dir, exist_ok=True)\n",
    "files = []\n",
    "files_r = []\n",
    "files_g = []\n",
    "files_b = []\n",
    "\n",
    "for file_path in glob.glob(\"./data-org/**/*.JPG\", recursive=True):\n",
    "    zip_filename = f'{i}.tiff'\n",
    "    files.append(zip_filename)\n",
    "    label = os.path.split(os.path.split(file_path)[0])[1]\n",
    "    file_name = os.path.basename(file_path)\n",
    "    base = os.path.splitext(file_name)[0]\n",
    "\n",
    "    im = np.array(Image.open(file_path))\n",
    "    im_R = im.copy()\n",
    "    im_R[:, :, 1] = im_R[:, :, 0]\n",
    "    im_R[:, :, 2] = im_R[:, :, 0]\n",
    "    dst_name_r = f'{base}-R.png'\n",
    "    files_r.append(dst_name_r)\n",
    "    Image.fromarray(im_R).resize((128,128)).convert('L').save(os.path.join(dst_dir, dst_name_r))\n",
    "\n",
    "    im_G = im.copy()\n",
    "    im_G[:, :, 0] = im_G[:, :, 1]\n",
    "    im_G[:, :, 2] = im_G[:, :, 1]\n",
    "    dst_name_g = f'{base}-G.png'\n",
    "    files_g.append(dst_name_g)\n",
    "    Image.fromarray(im_G).resize((128,128)).convert('L').save(os.path.join(dst_dir, dst_name_g))\n",
    "\n",
    "    im_B = im.copy()\n",
    "    im_B[:, :, 0] = im_B[:, :, 2]\n",
    "    im_B[:, :, 1] = im_B[:, :, 2]\n",
    "    dst_name_b = f'{base}-B.png'\n",
    "    files_b.append(dst_name_b)\n",
    "    Image.fromarray(im_B).resize((128,128)).convert('L').save(os.path.join(dst_dir, dst_name_b))\n",
    "    if len(files) > 100:\n",
    "#        with zipfile.ZipFile(os.path.join(dst_dir, zip_filename), 'w', zipfile.ZIP_DEFLATED) as zip_file:\n",
    "#            for j in range(len(files)):\n",
    "#                zip_file.write(os.path.join(dst_dir, files_r[j]), files_r[j])\n",
    "#                zip_file.write(os.path.join(dst_dir, files_g[j]), files_g[j])\n",
    "#                zip_file.write(os.path.join(dst_dir, files_b[j]), files_b[j])\n",
    "        stack = []\n",
    "        for j in range(len(files)):\n",
    "            stack.append(Image.open(os.path.join(dst_dir, files_r[j])).convert('L'))\n",
    "            stack.append(Image.open(os.path.join(dst_dir, files_g[j])).convert('L'))\n",
    "            stack.append(Image.open(os.path.join(dst_dir, files_b[j])).convert('L'))\n",
    "            df = df.append({'label': label_dict[label], 'tiff_filename': os.path.join(dst_dir, zip_filename), \n",
    "                            'index_r': j*3, 'index_g': j*3+1, 'index_b': j*3+2}, ignore_index=True)\n",
    "        stack[0].save(os.path.join(dst_dir, zip_filename), compression=\"tiff_deflate\", save_all=True, append_images=stack[1:])\n",
    "        files = []\n",
    "        files_r = []\n",
    "        files_g = []\n",
    "        files_b = []\n",
    "        i += 1\n",
    "\n",
    "#with zipfile.ZipFile(os.path.join(dst_dir, zip_filename), 'w', zipfile.ZIP_DEFLATED) as zip_file:\n",
    "#    for j in range(len(files)):\n",
    "#        zip_file.write(os.path.join(dst_dir, files_r[j]), files_r[j])\n",
    "#        zip_file.write(os.path.join(dst_dir, files_g[j]), files_g[j])\n",
    "#        zip_file.write(os.path.join(dst_dir, files_b[j]), files_b[j])\n",
    "stack = []\n",
    "for j in range(len(files)):\n",
    "    stack.append(Image.open(os.path.join(dst_dir, files_r[j])).convert('L'))\n",
    "    stack.append(Image.open(os.path.join(dst_dir, files_g[j])).convert('L'))\n",
    "    stack.append(Image.open(os.path.join(dst_dir, files_b[j])).convert('L'))\n",
    "    df = df.append({'label': label_dict[label], 'tiff_filename': os.path.join(dst_dir, zip_filename), \n",
    "                    'index_r': j*3, 'index_g': j*3+1, 'index_b': j*3+2}, ignore_index=True)\n",
    "stack[0].save(os.path.join(dst_dir, zip_filename), compression=\"tiff_deflate\", save_all=True, append_images=stack[1:])\n",
    "\n",
    "df.to_csv(os.path.join(dst_dir,'dataset-tiff.csv'))\n",
    "df"
   ]
  },
  {
   "cell_type": "code",
   "execution_count": null,
   "metadata": {},
   "outputs": [],
   "source": []
  }
 ]
}