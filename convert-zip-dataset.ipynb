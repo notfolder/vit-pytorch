{
 "metadata": {
  "language_info": {
   "codemirror_mode": {
    "name": "ipython",
    "version": 3
   },
   "file_extension": ".py",
   "mimetype": "text/x-python",
   "name": "python",
   "nbconvert_exporter": "python",
   "pygments_lexer": "ipython3",
   "version": "3.8.6-final"
  },
  "orig_nbformat": 2,
  "kernelspec": {
   "name": "python3",
   "display_name": "Python 3.8.6 64-bit ('x64-vit-pytorch')",
   "metadata": {
    "interpreter": {
     "hash": "2ec0d6a205a03597654bf7561b9daedadb1eaa3b43335c827c8caca9af077820"
    }
   }
  }
 },
 "nbformat": 4,
 "nbformat_minor": 2,
 "cells": [
  {
   "cell_type": "code",
   "execution_count": 1,
   "metadata": {},
   "outputs": [
    {
     "output_type": "execute_result",
     "data": {
      "text/plain": [
       "{'marker_black': 0,\n",
       " 'ruler_black': 1,\n",
       " 'pen_red': 2,\n",
       " 'pencil_core': 3,\n",
       " 'pen_green': 4,\n",
       " 'paste': 5,\n",
       " 'pen_multiclolor': 6,\n",
       " 'marker_red': 7}"
      ]
     },
     "metadata": {},
     "execution_count": 1
    }
   ],
   "source": [
    "import glob\n",
    "import os\n",
    "import zipfile\n",
    "import pandas as pd\n",
    "\n",
    "df = pd.DataFrame(columns=['label', 'zip_filename', 'filename_r', 'filename_g', 'filename_b'])\n",
    "# zipデータセット形式(zipファイル内にチャネルに別れたpngファイルがある。32x32) 10ファイルごとに1zipファイルを作成する\n",
    "labels = [os.path.basename(x) for x in glob.glob(\"./data-org/*\")]\n",
    "labels\n",
    "\n",
    "label_dict = {}\n",
    "for i in range(len(labels)):\n",
    "    label_dict[labels[i]] = i\n",
    "label_dict"
   ]
  },
  {
   "cell_type": "code",
   "execution_count": 2,
   "metadata": {
    "tags": []
   },
   "outputs": [
    {
     "output_type": "execute_result",
     "data": {
      "text/plain": [
       "    label      zip_filename      filename_r      filename_g      filename_b\n",
       "0       0  ./data-zip/0.zip  IMG_5622-R.png  IMG_5622-G.png  IMG_5622-B.png\n",
       "1       0  ./data-zip/0.zip  IMG_5583-R.png  IMG_5583-G.png  IMG_5583-B.png\n",
       "2       0  ./data-zip/0.zip  IMG_5781-R.png  IMG_5781-G.png  IMG_5781-B.png\n",
       "3       0  ./data-zip/0.zip  IMG_5742-R.png  IMG_5742-G.png  IMG_5742-B.png\n",
       "4       0  ./data-zip/0.zip  IMG_5743-R.png  IMG_5743-G.png  IMG_5743-B.png\n",
       "..    ...               ...             ...             ...             ...\n",
       "600     7  ./data-zip/5.zip  IMG_6643-R.png  IMG_6643-G.png  IMG_6643-B.png\n",
       "601     7  ./data-zip/5.zip  IMG_6521-R.png  IMG_6521-G.png  IMG_6521-B.png\n",
       "602     7  ./data-zip/5.zip  IMG_6642-R.png  IMG_6642-G.png  IMG_6642-B.png\n",
       "603     7  ./data-zip/5.zip  IMG_6681-R.png  IMG_6681-G.png  IMG_6681-B.png\n",
       "604     7  ./data-zip/5.zip  IMG_6483-R.png  IMG_6483-G.png  IMG_6483-B.png\n",
       "\n",
       "[605 rows x 5 columns]"
      ],
      "text/html": "<div>\n<style scoped>\n    .dataframe tbody tr th:only-of-type {\n        vertical-align: middle;\n    }\n\n    .dataframe tbody tr th {\n        vertical-align: top;\n    }\n\n    .dataframe thead th {\n        text-align: right;\n    }\n</style>\n<table border=\"1\" class=\"dataframe\">\n  <thead>\n    <tr style=\"text-align: right;\">\n      <th></th>\n      <th>label</th>\n      <th>zip_filename</th>\n      <th>filename_r</th>\n      <th>filename_g</th>\n      <th>filename_b</th>\n    </tr>\n  </thead>\n  <tbody>\n    <tr>\n      <th>0</th>\n      <td>0</td>\n      <td>./data-zip/0.zip</td>\n      <td>IMG_5622-R.png</td>\n      <td>IMG_5622-G.png</td>\n      <td>IMG_5622-B.png</td>\n    </tr>\n    <tr>\n      <th>1</th>\n      <td>0</td>\n      <td>./data-zip/0.zip</td>\n      <td>IMG_5583-R.png</td>\n      <td>IMG_5583-G.png</td>\n      <td>IMG_5583-B.png</td>\n    </tr>\n    <tr>\n      <th>2</th>\n      <td>0</td>\n      <td>./data-zip/0.zip</td>\n      <td>IMG_5781-R.png</td>\n      <td>IMG_5781-G.png</td>\n      <td>IMG_5781-B.png</td>\n    </tr>\n    <tr>\n      <th>3</th>\n      <td>0</td>\n      <td>./data-zip/0.zip</td>\n      <td>IMG_5742-R.png</td>\n      <td>IMG_5742-G.png</td>\n      <td>IMG_5742-B.png</td>\n    </tr>\n    <tr>\n      <th>4</th>\n      <td>0</td>\n      <td>./data-zip/0.zip</td>\n      <td>IMG_5743-R.png</td>\n      <td>IMG_5743-G.png</td>\n      <td>IMG_5743-B.png</td>\n    </tr>\n    <tr>\n      <th>...</th>\n      <td>...</td>\n      <td>...</td>\n      <td>...</td>\n      <td>...</td>\n      <td>...</td>\n    </tr>\n    <tr>\n      <th>600</th>\n      <td>7</td>\n      <td>./data-zip/5.zip</td>\n      <td>IMG_6643-R.png</td>\n      <td>IMG_6643-G.png</td>\n      <td>IMG_6643-B.png</td>\n    </tr>\n    <tr>\n      <th>601</th>\n      <td>7</td>\n      <td>./data-zip/5.zip</td>\n      <td>IMG_6521-R.png</td>\n      <td>IMG_6521-G.png</td>\n      <td>IMG_6521-B.png</td>\n    </tr>\n    <tr>\n      <th>602</th>\n      <td>7</td>\n      <td>./data-zip/5.zip</td>\n      <td>IMG_6642-R.png</td>\n      <td>IMG_6642-G.png</td>\n      <td>IMG_6642-B.png</td>\n    </tr>\n    <tr>\n      <th>603</th>\n      <td>7</td>\n      <td>./data-zip/5.zip</td>\n      <td>IMG_6681-R.png</td>\n      <td>IMG_6681-G.png</td>\n      <td>IMG_6681-B.png</td>\n    </tr>\n    <tr>\n      <th>604</th>\n      <td>7</td>\n      <td>./data-zip/5.zip</td>\n      <td>IMG_6483-R.png</td>\n      <td>IMG_6483-G.png</td>\n      <td>IMG_6483-B.png</td>\n    </tr>\n  </tbody>\n</table>\n<p>605 rows × 5 columns</p>\n</div>"
     },
     "metadata": {},
     "execution_count": 2
    }
   ],
   "source": [
    "from PIL import Image\n",
    "import numpy as np\n",
    "\n",
    "i = 0\n",
    "dst_dir = './data-zip'\n",
    "os.makedirs(dst_dir, exist_ok=True)\n",
    "files = []\n",
    "files_r = []\n",
    "files_g = []\n",
    "files_b = []\n",
    "\n",
    "for file_path in glob.glob(\"./data-org/**/*.JPG\", recursive=True):\n",
    "    zip_filename = f'{i}.zip'\n",
    "    files.append(zip_filename)\n",
    "    label = os.path.split(os.path.split(file_path)[0])[1]\n",
    "    file_name = os.path.basename(file_path)\n",
    "    base = os.path.splitext(file_name)[0]\n",
    "\n",
    "    im = np.array(Image.open(file_path))\n",
    "    im_R = im.copy()\n",
    "    im_R[:, :, 1] = im_R[:, :, 0]\n",
    "    im_R[:, :, 2] = im_R[:, :, 0]\n",
    "    dst_name_r = f'{base}-R.png'\n",
    "    files_r.append(dst_name_r)\n",
    "    Image.fromarray(im_R).resize((32,32)).convert('L').save(os.path.join(dst_dir, dst_name_r))\n",
    "\n",
    "    im_G = im.copy()\n",
    "    im_G[:, :, 0] = im_G[:, :, 1]\n",
    "    im_G[:, :, 2] = im_G[:, :, 1]\n",
    "    dst_name_g = f'{base}-G.png'\n",
    "    files_g.append(dst_name_g)\n",
    "    Image.fromarray(im_G).resize((32,32)).convert('L').save(os.path.join(dst_dir, dst_name_g))\n",
    "\n",
    "    im_B = im.copy()\n",
    "    im_B[:, :, 0] = im_B[:, :, 2]\n",
    "    im_B[:, :, 1] = im_B[:, :, 2]\n",
    "    dst_name_b = f'{base}-B.png'\n",
    "    files_b.append(dst_name_b)\n",
    "    Image.fromarray(im_B).resize((32,32)).convert('L').save(os.path.join(dst_dir, dst_name_b))\n",
    "    df = df.append({'label': label_dict[label], 'zip_filename': os.path.join(dst_dir, zip_filename), \n",
    "                    'filename_r': dst_name_r, 'filename_g': dst_name_g, 'filename_b': dst_name_b}, ignore_index=True)\n",
    "    if len(files) > 100:\n",
    "        with zipfile.ZipFile(os.path.join(dst_dir, zip_filename), 'w', zipfile.ZIP_DEFLATED) as zip_file:\n",
    "            for j in range(len(files)):\n",
    "                zip_file.write(os.path.join(dst_dir, files_r[j]), files_r[j])\n",
    "                zip_file.write(os.path.join(dst_dir, files_g[j]), files_g[j])\n",
    "                zip_file.write(os.path.join(dst_dir, files_b[j]), files_b[j])\n",
    "        files = []\n",
    "        files_r = []\n",
    "        files_g = []\n",
    "        files_b = []\n",
    "        i += 1\n",
    "\n",
    "with zipfile.ZipFile(os.path.join(dst_dir, zip_filename), 'w', zipfile.ZIP_DEFLATED) as zip_file:\n",
    "    for j in range(len(files)):\n",
    "        zip_file.write(os.path.join(dst_dir, files_r[j]), files_r[j])\n",
    "        zip_file.write(os.path.join(dst_dir, files_g[j]), files_g[j])\n",
    "        zip_file.write(os.path.join(dst_dir, files_b[j]), files_b[j])\n",
    "\n",
    "df.to_csv(os.path.join(dst_dir,'dataset-zip.csv'))\n",
    "df"
   ]
  },
  {
   "cell_type": "code",
   "execution_count": null,
   "metadata": {},
   "outputs": [],
   "source": []
  }
 ]
}